{
  "nbformat": 4,
  "nbformat_minor": 0,
  "metadata": {
    "colab": {
      "provenance": []
    },
    "kernelspec": {
      "name": "python3",
      "display_name": "Python 3"
    },
    "language_info": {
      "name": "python"
    }
  },
  "cells": [
    {
      "cell_type": "code",
      "metadata": {
        "id": "eXlcSqyBVuiD"
      },
      "source": [
        "!apt-get install openjdk-8-jdk-headless -qq > /dev/null \n",
        "!wget -q https://downloads.apache.org/spark/spark-2.4.8/spark-2.4.8-bin-hadoop2.7.tgz \n",
        "!tar xf spark-2.4.8-bin-hadoop2.7.tgz"
      ],
      "execution_count": null,
      "outputs": []
    },
    {
      "cell_type": "code",
      "metadata": {
        "id": "aavSGY4PWimL"
      },
      "source": [
        "import os \n",
        "os.environ[\"JAVA_HOME\"] = \"/usr/lib/jvm/java-8-openjdk-amd64\" \n",
        "os.environ[\"SPARK_HOME\"] = \"/content/spark-2.4.8-bin-hadoop2.7\""
      ],
      "execution_count": null,
      "outputs": []
    },
    {
      "cell_type": "code",
      "metadata": {
        "colab": {
          "base_uri": "https://localhost:8080/"
        },
        "id": "rMQRXsTNWiuY",
        "outputId": "d36470b1-1710-4098-bfb5-53aa84530515"
      },
      "source": [
        "!pip install findspark\n",
        "import findspark \n",
        "findspark.init()"
      ],
      "execution_count": null,
      "outputs": [
        {
          "output_type": "stream",
          "name": "stdout",
          "text": [
            "Collecting findspark\n",
            "  Downloading findspark-1.4.2-py2.py3-none-any.whl (4.2 kB)\n",
            "Installing collected packages: findspark\n",
            "Successfully installed findspark-1.4.2\n"
          ]
        }
      ]
    },
    {
      "cell_type": "code",
      "metadata": {
        "colab": {
          "base_uri": "https://localhost:8080/"
        },
        "id": "bTeAFvNEWixY",
        "outputId": "44df1e48-8445-4b33-d85f-47923a8ca28b"
      },
      "source": [
        "!pip install findspark\n",
        "import findspark \n",
        "findspark.init()"
      ],
      "execution_count": null,
      "outputs": [
        {
          "output_type": "stream",
          "name": "stdout",
          "text": [
            "Requirement already satisfied: findspark in /usr/local/lib/python3.7/dist-packages (1.4.2)\n"
          ]
        }
      ]
    },
    {
      "cell_type": "code",
      "metadata": {
        "id": "dCdT5Ot-Xws_"
      },
      "source": [
        "import pyspark\n",
        "sc = pyspark.SparkContext()"
      ],
      "execution_count": null,
      "outputs": []
    },
    {
      "cell_type": "code",
      "metadata": {
        "colab": {
          "base_uri": "https://localhost:8080/"
        },
        "id": "jJYQGp8DXHE_",
        "outputId": "feea1c61-c788-4265-e43d-ab2252921743"
      },
      "source": [
        "readme = sc.textFile('/content/spark-2.4.8-bin-hadoop2.7/README.md')\n",
        "readme.count()"
      ],
      "execution_count": null,
      "outputs": [
        {
          "output_type": "execute_result",
          "data": {
            "text/plain": [
              "104"
            ]
          },
          "metadata": {},
          "execution_count": 7
        }
      ]
    },
    {
      "cell_type": "code",
      "metadata": {
        "colab": {
          "base_uri": "https://localhost:8080/"
        },
        "id": "qm-kIviOXHIP",
        "outputId": "ca05ef4b-5ff8-4df1-fff7-0d958b24230a"
      },
      "source": [
        "readme.map(lambda word:word .upper()).collect()"
      ],
      "execution_count": null,
      "outputs": [
        {
          "output_type": "execute_result",
          "data": {
            "text/plain": [
              "['# APACHE SPARK',\n",
              " '',\n",
              " 'SPARK IS A FAST AND GENERAL CLUSTER COMPUTING SYSTEM FOR BIG DATA. IT PROVIDES',\n",
              " 'HIGH-LEVEL APIS IN SCALA, JAVA, PYTHON, AND R, AND AN OPTIMIZED ENGINE THAT',\n",
              " 'SUPPORTS GENERAL COMPUTATION GRAPHS FOR DATA ANALYSIS. IT ALSO SUPPORTS A',\n",
              " 'RICH SET OF HIGHER-LEVEL TOOLS INCLUDING SPARK SQL FOR SQL AND DATAFRAMES,',\n",
              " 'MLLIB FOR MACHINE LEARNING, GRAPHX FOR GRAPH PROCESSING,',\n",
              " 'AND SPARK STREAMING FOR STREAM PROCESSING.',\n",
              " '',\n",
              " '<HTTP://SPARK.APACHE.ORG/>',\n",
              " '',\n",
              " '',\n",
              " '## ONLINE DOCUMENTATION',\n",
              " '',\n",
              " 'YOU CAN FIND THE LATEST SPARK DOCUMENTATION, INCLUDING A PROGRAMMING',\n",
              " 'GUIDE, ON THE [PROJECT WEB PAGE](HTTP://SPARK.APACHE.ORG/DOCUMENTATION.HTML).',\n",
              " 'THIS README FILE ONLY CONTAINS BASIC SETUP INSTRUCTIONS.',\n",
              " '',\n",
              " '## BUILDING SPARK',\n",
              " '',\n",
              " 'SPARK IS BUILT USING [APACHE MAVEN](HTTP://MAVEN.APACHE.ORG/).',\n",
              " 'TO BUILD SPARK AND ITS EXAMPLE PROGRAMS, RUN:',\n",
              " '',\n",
              " '    BUILD/MVN -DSKIPTESTS CLEAN PACKAGE',\n",
              " '',\n",
              " '(YOU DO NOT NEED TO DO THIS IF YOU DOWNLOADED A PRE-BUILT PACKAGE.)',\n",
              " '',\n",
              " 'MORE DETAILED DOCUMENTATION IS AVAILABLE FROM THE PROJECT SITE, AT',\n",
              " '[\"BUILDING SPARK\"](HTTP://SPARK.APACHE.ORG/DOCS/LATEST/BUILDING-SPARK.HTML).',\n",
              " '',\n",
              " 'FOR GENERAL DEVELOPMENT TIPS, INCLUDING INFO ON DEVELOPING SPARK USING AN IDE, SEE [\"USEFUL DEVELOPER TOOLS\"](HTTP://SPARK.APACHE.ORG/DEVELOPER-TOOLS.HTML).',\n",
              " '',\n",
              " '## INTERACTIVE SCALA SHELL',\n",
              " '',\n",
              " 'THE EASIEST WAY TO START USING SPARK IS THROUGH THE SCALA SHELL:',\n",
              " '',\n",
              " '    ./BIN/SPARK-SHELL',\n",
              " '',\n",
              " 'TRY THE FOLLOWING COMMAND, WHICH SHOULD RETURN 1000:',\n",
              " '',\n",
              " '    SCALA> SC.PARALLELIZE(1 TO 1000).COUNT()',\n",
              " '',\n",
              " '## INTERACTIVE PYTHON SHELL',\n",
              " '',\n",
              " 'ALTERNATIVELY, IF YOU PREFER PYTHON, YOU CAN USE THE PYTHON SHELL:',\n",
              " '',\n",
              " '    ./BIN/PYSPARK',\n",
              " '',\n",
              " 'AND RUN THE FOLLOWING COMMAND, WHICH SHOULD ALSO RETURN 1000:',\n",
              " '',\n",
              " '    >>> SC.PARALLELIZE(RANGE(1000)).COUNT()',\n",
              " '',\n",
              " '## EXAMPLE PROGRAMS',\n",
              " '',\n",
              " 'SPARK ALSO COMES WITH SEVERAL SAMPLE PROGRAMS IN THE `EXAMPLES` DIRECTORY.',\n",
              " 'TO RUN ONE OF THEM, USE `./BIN/RUN-EXAMPLE <CLASS> [PARAMS]`. FOR EXAMPLE:',\n",
              " '',\n",
              " '    ./BIN/RUN-EXAMPLE SPARKPI',\n",
              " '',\n",
              " 'WILL RUN THE PI EXAMPLE LOCALLY.',\n",
              " '',\n",
              " 'YOU CAN SET THE MASTER ENVIRONMENT VARIABLE WHEN RUNNING EXAMPLES TO SUBMIT',\n",
              " 'EXAMPLES TO A CLUSTER. THIS CAN BE A MESOS:// OR SPARK:// URL,',\n",
              " '\"YARN\" TO RUN ON YARN, AND \"LOCAL\" TO RUN',\n",
              " 'LOCALLY WITH ONE THREAD, OR \"LOCAL[N]\" TO RUN LOCALLY WITH N THREADS. YOU',\n",
              " 'CAN ALSO USE AN ABBREVIATED CLASS NAME IF THE CLASS IS IN THE `EXAMPLES`',\n",
              " 'PACKAGE. FOR INSTANCE:',\n",
              " '',\n",
              " '    MASTER=SPARK://HOST:7077 ./BIN/RUN-EXAMPLE SPARKPI',\n",
              " '',\n",
              " 'MANY OF THE EXAMPLE PROGRAMS PRINT USAGE HELP IF NO PARAMS ARE GIVEN.',\n",
              " '',\n",
              " '## RUNNING TESTS',\n",
              " '',\n",
              " 'TESTING FIRST REQUIRES [BUILDING SPARK](#BUILDING-SPARK). ONCE SPARK IS BUILT, TESTS',\n",
              " 'CAN BE RUN USING:',\n",
              " '',\n",
              " '    ./DEV/RUN-TESTS',\n",
              " '',\n",
              " 'PLEASE SEE THE GUIDANCE ON HOW TO',\n",
              " '[RUN TESTS FOR A MODULE, OR INDIVIDUAL TESTS](HTTP://SPARK.APACHE.ORG/DEVELOPER-TOOLS.HTML#INDIVIDUAL-TESTS).',\n",
              " '',\n",
              " 'THERE IS ALSO A KUBERNETES INTEGRATION TEST, SEE RESOURCE-MANAGERS/KUBERNETES/INTEGRATION-TESTS/README.MD',\n",
              " '',\n",
              " '## A NOTE ABOUT HADOOP VERSIONS',\n",
              " '',\n",
              " 'SPARK USES THE HADOOP CORE LIBRARY TO TALK TO HDFS AND OTHER HADOOP-SUPPORTED',\n",
              " 'STORAGE SYSTEMS. BECAUSE THE PROTOCOLS HAVE CHANGED IN DIFFERENT VERSIONS OF',\n",
              " 'HADOOP, YOU MUST BUILD SPARK AGAINST THE SAME VERSION THAT YOUR CLUSTER RUNS.',\n",
              " '',\n",
              " 'PLEASE REFER TO THE BUILD DOCUMENTATION AT',\n",
              " '[\"SPECIFYING THE HADOOP VERSION AND ENABLING YARN\"](HTTP://SPARK.APACHE.ORG/DOCS/LATEST/BUILDING-SPARK.HTML#SPECIFYING-THE-HADOOP-VERSION-AND-ENABLING-YARN)',\n",
              " 'FOR DETAILED GUIDANCE ON BUILDING FOR A PARTICULAR DISTRIBUTION OF HADOOP, INCLUDING',\n",
              " 'BUILDING FOR PARTICULAR HIVE AND HIVE THRIFTSERVER DISTRIBUTIONS.',\n",
              " '',\n",
              " '## CONFIGURATION',\n",
              " '',\n",
              " 'PLEASE REFER TO THE [CONFIGURATION GUIDE](HTTP://SPARK.APACHE.ORG/DOCS/LATEST/CONFIGURATION.HTML)',\n",
              " 'IN THE ONLINE DOCUMENTATION FOR AN OVERVIEW ON HOW TO CONFIGURE SPARK.',\n",
              " '',\n",
              " '## CONTRIBUTING',\n",
              " '',\n",
              " 'PLEASE REVIEW THE [CONTRIBUTION TO SPARK GUIDE](HTTP://SPARK.APACHE.ORG/CONTRIBUTING.HTML)',\n",
              " 'FOR INFORMATION ON HOW TO GET STARTED CONTRIBUTING TO THE PROJECT.']"
            ]
          },
          "metadata": {},
          "execution_count": 8
        }
      ]
    },
    {
      "cell_type": "code",
      "metadata": {
        "colab": {
          "base_uri": "https://localhost:8080/"
        },
        "id": "8j7Q7Ah5XHLI",
        "outputId": "d4370ddc-b6e8-4fbd-be88-76fc6593f693"
      },
      "source": [
        "readme.map(lambda word:word .upper()).take(1)"
      ],
      "execution_count": null,
      "outputs": [
        {
          "output_type": "execute_result",
          "data": {
            "text/plain": [
              "['# APACHE SPARK']"
            ]
          },
          "metadata": {},
          "execution_count": 9
        }
      ]
    },
    {
      "cell_type": "code",
      "metadata": {
        "colab": {
          "base_uri": "https://localhost:8080/"
        },
        "id": "Ue4eeTGBXHOQ",
        "outputId": "3e64305d-477e-4618-f391-619ac1f1dc03"
      },
      "source": [
        "readme.map(lambda readme:(readme,len(readme))).collect()"
      ],
      "execution_count": null,
      "outputs": [
        {
          "output_type": "execute_result",
          "data": {
            "text/plain": [
              "[('# Apache Spark', 14),\n",
              " ('', 0),\n",
              " ('Spark is a fast and general cluster computing system for Big Data. It provides',\n",
              "  78),\n",
              " ('high-level APIs in Scala, Java, Python, and R, and an optimized engine that',\n",
              "  75),\n",
              " ('supports general computation graphs for data analysis. It also supports a',\n",
              "  73),\n",
              " ('rich set of higher-level tools including Spark SQL for SQL and DataFrames,',\n",
              "  74),\n",
              " ('MLlib for machine learning, GraphX for graph processing,', 56),\n",
              " ('and Spark Streaming for stream processing.', 42),\n",
              " ('', 0),\n",
              " ('<http://spark.apache.org/>', 26),\n",
              " ('', 0),\n",
              " ('', 0),\n",
              " ('## Online Documentation', 23),\n",
              " ('', 0),\n",
              " ('You can find the latest Spark documentation, including a programming', 68),\n",
              " ('guide, on the [project web page](http://spark.apache.org/documentation.html).',\n",
              "  77),\n",
              " ('This README file only contains basic setup instructions.', 56),\n",
              " ('', 0),\n",
              " ('## Building Spark', 17),\n",
              " ('', 0),\n",
              " ('Spark is built using [Apache Maven](http://maven.apache.org/).', 62),\n",
              " ('To build Spark and its example programs, run:', 45),\n",
              " ('', 0),\n",
              " ('    build/mvn -DskipTests clean package', 39),\n",
              " ('', 0),\n",
              " ('(You do not need to do this if you downloaded a pre-built package.)', 67),\n",
              " ('', 0),\n",
              " ('More detailed documentation is available from the project site, at', 66),\n",
              " ('[\"Building Spark\"](http://spark.apache.org/docs/latest/building-spark.html).',\n",
              "  76),\n",
              " ('', 0),\n",
              " ('For general development tips, including info on developing Spark using an IDE, see [\"Useful Developer Tools\"](http://spark.apache.org/developer-tools.html).',\n",
              "  156),\n",
              " ('', 0),\n",
              " ('## Interactive Scala Shell', 26),\n",
              " ('', 0),\n",
              " ('The easiest way to start using Spark is through the Scala shell:', 64),\n",
              " ('', 0),\n",
              " ('    ./bin/spark-shell', 21),\n",
              " ('', 0),\n",
              " ('Try the following command, which should return 1000:', 52),\n",
              " ('', 0),\n",
              " ('    scala> sc.parallelize(1 to 1000).count()', 44),\n",
              " ('', 0),\n",
              " ('## Interactive Python Shell', 27),\n",
              " ('', 0),\n",
              " ('Alternatively, if you prefer Python, you can use the Python shell:', 66),\n",
              " ('', 0),\n",
              " ('    ./bin/pyspark', 17),\n",
              " ('', 0),\n",
              " ('And run the following command, which should also return 1000:', 61),\n",
              " ('', 0),\n",
              " ('    >>> sc.parallelize(range(1000)).count()', 43),\n",
              " ('', 0),\n",
              " ('## Example Programs', 19),\n",
              " ('', 0),\n",
              " ('Spark also comes with several sample programs in the `examples` directory.',\n",
              "  74),\n",
              " ('To run one of them, use `./bin/run-example <class> [params]`. For example:',\n",
              "  74),\n",
              " ('', 0),\n",
              " ('    ./bin/run-example SparkPi', 29),\n",
              " ('', 0),\n",
              " ('will run the Pi example locally.', 32),\n",
              " ('', 0),\n",
              " ('You can set the MASTER environment variable when running examples to submit',\n",
              "  75),\n",
              " ('examples to a cluster. This can be a mesos:// or spark:// URL,', 62),\n",
              " ('\"yarn\" to run on YARN, and \"local\" to run', 41),\n",
              " ('locally with one thread, or \"local[N]\" to run locally with N threads. You',\n",
              "  73),\n",
              " ('can also use an abbreviated class name if the class is in the `examples`',\n",
              "  72),\n",
              " ('package. For instance:', 22),\n",
              " ('', 0),\n",
              " ('    MASTER=spark://host:7077 ./bin/run-example SparkPi', 54),\n",
              " ('', 0),\n",
              " ('Many of the example programs print usage help if no params are given.', 69),\n",
              " ('', 0),\n",
              " ('## Running Tests', 16),\n",
              " ('', 0),\n",
              " ('Testing first requires [building Spark](#building-spark). Once Spark is built, tests',\n",
              "  84),\n",
              " ('can be run using:', 17),\n",
              " ('', 0),\n",
              " ('    ./dev/run-tests', 19),\n",
              " ('', 0),\n",
              " ('Please see the guidance on how to', 33),\n",
              " ('[run tests for a module, or individual tests](http://spark.apache.org/developer-tools.html#individual-tests).',\n",
              "  109),\n",
              " ('', 0),\n",
              " ('There is also a Kubernetes integration test, see resource-managers/kubernetes/integration-tests/README.md',\n",
              "  105),\n",
              " ('', 0),\n",
              " ('## A Note About Hadoop Versions', 31),\n",
              " ('', 0),\n",
              " ('Spark uses the Hadoop core library to talk to HDFS and other Hadoop-supported',\n",
              "  77),\n",
              " ('storage systems. Because the protocols have changed in different versions of',\n",
              "  76),\n",
              " ('Hadoop, you must build Spark against the same version that your cluster runs.',\n",
              "  77),\n",
              " ('', 0),\n",
              " ('Please refer to the build documentation at', 42),\n",
              " ('[\"Specifying the Hadoop Version and Enabling YARN\"](http://spark.apache.org/docs/latest/building-spark.html#specifying-the-hadoop-version-and-enabling-yarn)',\n",
              "  156),\n",
              " ('for detailed guidance on building for a particular distribution of Hadoop, including',\n",
              "  84),\n",
              " ('building for particular Hive and Hive Thriftserver distributions.', 65),\n",
              " ('', 0),\n",
              " ('## Configuration', 16),\n",
              " ('', 0),\n",
              " ('Please refer to the [Configuration Guide](http://spark.apache.org/docs/latest/configuration.html)',\n",
              "  97),\n",
              " ('in the online documentation for an overview on how to configure Spark.',\n",
              "  70),\n",
              " ('', 0),\n",
              " ('## Contributing', 15),\n",
              " ('', 0),\n",
              " ('Please review the [Contribution to Spark guide](http://spark.apache.org/contributing.html)',\n",
              "  90),\n",
              " ('for information on how to get started contributing to the project.', 66)]"
            ]
          },
          "metadata": {},
          "execution_count": 10
        }
      ]
    },
    {
      "cell_type": "code",
      "metadata": {
        "id": "wbjNHMq4ab3X"
      },
      "source": [
        "from pyspark.sql import SparkSession\n",
        "spark = SparkSession \\\n",
        "        .builder \\\n",
        "        .appName('Python Spark DataFrame Example') \\\n",
        "        .getOrCreate()\n",
        "      \n"
      ],
      "execution_count": null,
      "outputs": []
    },
    {
      "cell_type": "code",
      "metadata": {
        "colab": {
          "base_uri": "https://localhost:8080/"
        },
        "id": "xV09x5RLab7a",
        "outputId": "455aa958-d772-48e1-b4a2-9a2fa9783fcd"
      },
      "source": [
        "kiva = spark.read.csv('/content/kiva_el.csv',sep=',',\n",
        "                      header='true',inferSchema='true')\n",
        "kiva.printSchema()"
      ],
      "execution_count": null,
      "outputs": [
        {
          "output_type": "stream",
          "name": "stdout",
          "text": [
            "root\n",
            " |-- LocationName: string (nullable = true)\n",
            " |-- ISO: string (nullable = true)\n",
            " |-- country: string (nullable = true)\n",
            " |-- region: string (nullable = true)\n",
            " |-- world_region: string (nullable = true)\n",
            " |-- MPI: string (nullable = true)\n",
            " |-- geo: string (nullable = true)\n",
            " |-- lat: string (nullable = true)\n",
            " |-- lon: string (nullable = true)\n",
            " |-- id: string (nullable = true)\n",
            " |-- funded_amount: string (nullable = true)\n",
            " |-- loan_amount: string (nullable = true)\n",
            " |-- activity: string (nullable = true)\n",
            " |-- sector: string (nullable = true)\n",
            " |-- use: string (nullable = true)\n",
            " |-- country_code: string (nullable = true)\n",
            " |-- currency: string (nullable = true)\n",
            " |-- partner_id: string (nullable = true)\n",
            " |-- posted_time: string (nullable = true)\n",
            " |-- disbursed_time: string (nullable = true)\n",
            " |-- funded_time: string (nullable = true)\n",
            " |-- term_in_months: string (nullable = true)\n",
            " |-- lender_count: double (nullable = true)\n",
            " |-- tags: string (nullable = true)\n",
            " |-- borrower_genders: string (nullable = true)\n",
            " |-- repayment_interval: string (nullable = true)\n",
            " |-- date: string (nullable = true)\n",
            " |-- year: string (nullable = true)\n",
            " |-- month: string (nullable = true)\n",
            " |-- day: string (nullable = true)\n",
            "\n"
          ]
        }
      ]
    },
    {
      "cell_type": "code",
      "metadata": {
        "colab": {
          "base_uri": "https://localhost:8080/"
        },
        "id": "yD8yVDc0ab-y",
        "outputId": "4d3a34ca-d108-4ddc-e4e1-78645aa521d0"
      },
      "source": [
        "kiva.show(5)"
      ],
      "execution_count": null,
      "outputs": [
        {
          "output_type": "stream",
          "name": "stdout",
          "text": [
            "+--------------------+---+-----------+----------+--------------------+----+--------------------+----------+-----------+------+-------------+-----------+-------------+-----------+--------------------+------------+--------+----------+--------------------+--------------------+--------------------+--------------+------------+--------------------+--------------------+------------------+----------+----+--------+---------+\n",
            "|        LocationName|ISO|    country|    region|        world_region| MPI|                 geo|       lat|        lon|    id|funded_amount|loan_amount|     activity|     sector|                 use|country_code|currency|partner_id|         posted_time|      disbursed_time|         funded_time|term_in_months|lender_count|                tags|    borrower_genders|repayment_interval|      date|year|   month|      day|\n",
            "+--------------------+---+-----------+----------+--------------------+----+--------------------+----------+-----------+------+-------------+-----------+-------------+-----------+--------------------+------------+--------+----------+--------------------+--------------------+--------------------+--------------+------------+--------------------+--------------------+------------------+----------+----+--------+---------+\n",
            "|Ahuachapan, El Sa...|SLV|El Salvador|Ahuachapan|Latin America and...|0.03|(13.8216148, -89....|13.8216148|-89.9253233|670484|       1300.0|     1300.0|  Agriculture|Agriculture|to pay for the la...|          SV|     USD|     333.0|2014-02-15 21:03:...|2014-01-16 08:00:...|2014-02-21 20:41:...|          14.0|        29.0|                null|female, female, f...|            bullet|2014-02-15|2014|February| Saturday|\n",
            "|Ahuachapan, El Sa...|SLV|El Salvador|Ahuachapan|Latin America and...|0.03|(13.8216148, -89....|13.8216148|-89.9253233|675795|       1800.0|     3000.0|    Livestock|Agriculture|        to buy cows.|          SV|     USD|     333.0|2014-02-24 17:53:...|2014-02-06 08:00:...|                null|          14.0|        53.0|#Animals, #Parent...|    male, male, male|            bullet|2014-02-24|2014|February|   Monday|\n",
            "|Ahuachapan, El Sa...|SLV|El Salvador|Ahuachapan|Latin America and...|0.03|(13.8216148, -89....|13.8216148|-89.9253233|686887|       1900.0|     1900.0|  Agriculture|Agriculture|to buy agricultur...|          SV|     USD|     333.0|2014-03-20 22:43:...|2014-02-20 08:00:...|2014-04-24 12:40:...|          14.0|        31.0|#Hidden Gem, #Sup...|  male, male, female|            bullet|2014-03-20|2014|   March| Thursday|\n",
            "|Ahuachapan, El Sa...|SLV|El Salvador|Ahuachapan|Latin America and...|0.03|(13.8216148, -89....|13.8216148|-89.9253233|706942|       1925.0|     2200.0|  Agriculture|Agriculture|to buy agricultur...|          SV|     USD|     333.0|2014-05-07 14:48:...|2014-04-10 07:00:...|                null|          14.0|        54.0|volunteer_pick, v...|    male, male, male|            bullet|2014-05-07|2014|     May|Wednesday|\n",
            "|Ahuachapan, El Sa...|SLV|El Salvador|Ahuachapan|Latin America and...|0.03|(13.8216148, -89....|13.8216148|-89.9253233|716964|       1275.0|     1500.0|Farm Supplies|Agriculture|to buy agricultur...|          SV|     USD|     333.0|2014-05-27 20:54:...|2014-05-15 07:00:...|                null|          14.0|         7.0|volunteer_pick, v...|    male, male, male|            bullet|2014-05-27|2014|     May|  Tuesday|\n",
            "+--------------------+---+-----------+----------+--------------------+----+--------------------+----------+-----------+------+-------------+-----------+-------------+-----------+--------------------+------------+--------+----------+--------------------+--------------------+--------------------+--------------+------------+--------------------+--------------------+------------------+----------+----+--------+---------+\n",
            "only showing top 5 rows\n",
            "\n"
          ]
        }
      ]
    },
    {
      "cell_type": "code",
      "metadata": {
        "colab": {
          "base_uri": "https://localhost:8080/",
          "height": 504
        },
        "id": "Z29OHkZuacB5",
        "outputId": "cb040637-28f8-4285-f5fa-ed02e7a5e445"
      },
      "source": [
        "df = kiva.limit(5).toPandas()\n",
        "df "
      ],
      "execution_count": null,
      "outputs": [
        {
          "output_type": "execute_result",
          "data": {
            "text/html": [
              "<div>\n",
              "<style scoped>\n",
              "    .dataframe tbody tr th:only-of-type {\n",
              "        vertical-align: middle;\n",
              "    }\n",
              "\n",
              "    .dataframe tbody tr th {\n",
              "        vertical-align: top;\n",
              "    }\n",
              "\n",
              "    .dataframe thead th {\n",
              "        text-align: right;\n",
              "    }\n",
              "</style>\n",
              "<table border=\"1\" class=\"dataframe\">\n",
              "  <thead>\n",
              "    <tr style=\"text-align: right;\">\n",
              "      <th></th>\n",
              "      <th>LocationName</th>\n",
              "      <th>ISO</th>\n",
              "      <th>country</th>\n",
              "      <th>region</th>\n",
              "      <th>world_region</th>\n",
              "      <th>MPI</th>\n",
              "      <th>geo</th>\n",
              "      <th>lat</th>\n",
              "      <th>lon</th>\n",
              "      <th>id</th>\n",
              "      <th>funded_amount</th>\n",
              "      <th>loan_amount</th>\n",
              "      <th>activity</th>\n",
              "      <th>sector</th>\n",
              "      <th>use</th>\n",
              "      <th>country_code</th>\n",
              "      <th>currency</th>\n",
              "      <th>partner_id</th>\n",
              "      <th>posted_time</th>\n",
              "      <th>disbursed_time</th>\n",
              "      <th>funded_time</th>\n",
              "      <th>term_in_months</th>\n",
              "      <th>lender_count</th>\n",
              "      <th>tags</th>\n",
              "      <th>borrower_genders</th>\n",
              "      <th>repayment_interval</th>\n",
              "      <th>date</th>\n",
              "      <th>year</th>\n",
              "      <th>month</th>\n",
              "      <th>day</th>\n",
              "    </tr>\n",
              "  </thead>\n",
              "  <tbody>\n",
              "    <tr>\n",
              "      <th>0</th>\n",
              "      <td>Ahuachapan, El Salvador</td>\n",
              "      <td>SLV</td>\n",
              "      <td>El Salvador</td>\n",
              "      <td>Ahuachapan</td>\n",
              "      <td>Latin America and Caribbean</td>\n",
              "      <td>0.03</td>\n",
              "      <td>(13.8216148, -89.9253233)</td>\n",
              "      <td>13.8216148</td>\n",
              "      <td>-89.9253233</td>\n",
              "      <td>670484</td>\n",
              "      <td>1300.0</td>\n",
              "      <td>1300.0</td>\n",
              "      <td>Agriculture</td>\n",
              "      <td>Agriculture</td>\n",
              "      <td>to pay for the land's rent and buy agricultura...</td>\n",
              "      <td>SV</td>\n",
              "      <td>USD</td>\n",
              "      <td>333.0</td>\n",
              "      <td>2014-02-15 21:03:42+00:00</td>\n",
              "      <td>2014-01-16 08:00:00+00:00</td>\n",
              "      <td>2014-02-21 20:41:13+00:00</td>\n",
              "      <td>14.0</td>\n",
              "      <td>29.0</td>\n",
              "      <td>None</td>\n",
              "      <td>female, female, female</td>\n",
              "      <td>bullet</td>\n",
              "      <td>2014-02-15</td>\n",
              "      <td>2014</td>\n",
              "      <td>February</td>\n",
              "      <td>Saturday</td>\n",
              "    </tr>\n",
              "    <tr>\n",
              "      <th>1</th>\n",
              "      <td>Ahuachapan, El Salvador</td>\n",
              "      <td>SLV</td>\n",
              "      <td>El Salvador</td>\n",
              "      <td>Ahuachapan</td>\n",
              "      <td>Latin America and Caribbean</td>\n",
              "      <td>0.03</td>\n",
              "      <td>(13.8216148, -89.9253233)</td>\n",
              "      <td>13.8216148</td>\n",
              "      <td>-89.9253233</td>\n",
              "      <td>675795</td>\n",
              "      <td>1800.0</td>\n",
              "      <td>3000.0</td>\n",
              "      <td>Livestock</td>\n",
              "      <td>Agriculture</td>\n",
              "      <td>to buy cows.</td>\n",
              "      <td>SV</td>\n",
              "      <td>USD</td>\n",
              "      <td>333.0</td>\n",
              "      <td>2014-02-24 17:53:22+00:00</td>\n",
              "      <td>2014-02-06 08:00:00+00:00</td>\n",
              "      <td>None</td>\n",
              "      <td>14.0</td>\n",
              "      <td>53.0</td>\n",
              "      <td>#Animals, #Parent, #Supporting Family, user_fa...</td>\n",
              "      <td>male, male, male</td>\n",
              "      <td>bullet</td>\n",
              "      <td>2014-02-24</td>\n",
              "      <td>2014</td>\n",
              "      <td>February</td>\n",
              "      <td>Monday</td>\n",
              "    </tr>\n",
              "    <tr>\n",
              "      <th>2</th>\n",
              "      <td>Ahuachapan, El Salvador</td>\n",
              "      <td>SLV</td>\n",
              "      <td>El Salvador</td>\n",
              "      <td>Ahuachapan</td>\n",
              "      <td>Latin America and Caribbean</td>\n",
              "      <td>0.03</td>\n",
              "      <td>(13.8216148, -89.9253233)</td>\n",
              "      <td>13.8216148</td>\n",
              "      <td>-89.9253233</td>\n",
              "      <td>686887</td>\n",
              "      <td>1900.0</td>\n",
              "      <td>1900.0</td>\n",
              "      <td>Agriculture</td>\n",
              "      <td>Agriculture</td>\n",
              "      <td>to buy agricultural supplies</td>\n",
              "      <td>SV</td>\n",
              "      <td>USD</td>\n",
              "      <td>333.0</td>\n",
              "      <td>2014-03-20 22:43:26+00:00</td>\n",
              "      <td>2014-02-20 08:00:00+00:00</td>\n",
              "      <td>2014-04-24 12:40:59+00:00</td>\n",
              "      <td>14.0</td>\n",
              "      <td>31.0</td>\n",
              "      <td>#Hidden Gem, #Supporting Family, user_favorite...</td>\n",
              "      <td>male, male, female</td>\n",
              "      <td>bullet</td>\n",
              "      <td>2014-03-20</td>\n",
              "      <td>2014</td>\n",
              "      <td>March</td>\n",
              "      <td>Thursday</td>\n",
              "    </tr>\n",
              "    <tr>\n",
              "      <th>3</th>\n",
              "      <td>Ahuachapan, El Salvador</td>\n",
              "      <td>SLV</td>\n",
              "      <td>El Salvador</td>\n",
              "      <td>Ahuachapan</td>\n",
              "      <td>Latin America and Caribbean</td>\n",
              "      <td>0.03</td>\n",
              "      <td>(13.8216148, -89.9253233)</td>\n",
              "      <td>13.8216148</td>\n",
              "      <td>-89.9253233</td>\n",
              "      <td>706942</td>\n",
              "      <td>1925.0</td>\n",
              "      <td>2200.0</td>\n",
              "      <td>Agriculture</td>\n",
              "      <td>Agriculture</td>\n",
              "      <td>to buy agricultural supplies.</td>\n",
              "      <td>SV</td>\n",
              "      <td>USD</td>\n",
              "      <td>333.0</td>\n",
              "      <td>2014-05-07 14:48:20+00:00</td>\n",
              "      <td>2014-04-10 07:00:00+00:00</td>\n",
              "      <td>None</td>\n",
              "      <td>14.0</td>\n",
              "      <td>54.0</td>\n",
              "      <td>volunteer_pick, volunteer_like, user_favorite,...</td>\n",
              "      <td>male, male, male</td>\n",
              "      <td>bullet</td>\n",
              "      <td>2014-05-07</td>\n",
              "      <td>2014</td>\n",
              "      <td>May</td>\n",
              "      <td>Wednesday</td>\n",
              "    </tr>\n",
              "    <tr>\n",
              "      <th>4</th>\n",
              "      <td>Ahuachapan, El Salvador</td>\n",
              "      <td>SLV</td>\n",
              "      <td>El Salvador</td>\n",
              "      <td>Ahuachapan</td>\n",
              "      <td>Latin America and Caribbean</td>\n",
              "      <td>0.03</td>\n",
              "      <td>(13.8216148, -89.9253233)</td>\n",
              "      <td>13.8216148</td>\n",
              "      <td>-89.9253233</td>\n",
              "      <td>716964</td>\n",
              "      <td>1275.0</td>\n",
              "      <td>1500.0</td>\n",
              "      <td>Farm Supplies</td>\n",
              "      <td>Agriculture</td>\n",
              "      <td>to buy agricultural supplies.</td>\n",
              "      <td>SV</td>\n",
              "      <td>USD</td>\n",
              "      <td>333.0</td>\n",
              "      <td>2014-05-27 20:54:47+00:00</td>\n",
              "      <td>2014-05-15 07:00:00+00:00</td>\n",
              "      <td>None</td>\n",
              "      <td>14.0</td>\n",
              "      <td>7.0</td>\n",
              "      <td>volunteer_pick, volunteer_like, #Biz Durable A...</td>\n",
              "      <td>male, male, male</td>\n",
              "      <td>bullet</td>\n",
              "      <td>2014-05-27</td>\n",
              "      <td>2014</td>\n",
              "      <td>May</td>\n",
              "      <td>Tuesday</td>\n",
              "    </tr>\n",
              "  </tbody>\n",
              "</table>\n",
              "</div>"
            ],
            "text/plain": [
              "              LocationName  ISO      country  ...  year     month        day\n",
              "0  Ahuachapan, El Salvador  SLV  El Salvador  ...  2014  February   Saturday\n",
              "1  Ahuachapan, El Salvador  SLV  El Salvador  ...  2014  February     Monday\n",
              "2  Ahuachapan, El Salvador  SLV  El Salvador  ...  2014     March   Thursday\n",
              "3  Ahuachapan, El Salvador  SLV  El Salvador  ...  2014       May  Wednesday\n",
              "4  Ahuachapan, El Salvador  SLV  El Salvador  ...  2014       May    Tuesday\n",
              "\n",
              "[5 rows x 30 columns]"
            ]
          },
          "metadata": {},
          "execution_count": 15
        }
      ]
    },
    {
      "cell_type": "code",
      "metadata": {
        "colab": {
          "base_uri": "https://localhost:8080/"
        },
        "id": "Tcw87r1uacE0",
        "outputId": "c4cb6615-dcdf-48a2-f687-085f8ee29887"
      },
      "source": [
        "kiva = kiva.withColumnRenamed('LocationName','Location')\n",
        "kiva.show()"
      ],
      "execution_count": null,
      "outputs": [
        {
          "output_type": "stream",
          "name": "stdout",
          "text": [
            "+--------------------+---+-----------+-----------+--------------------+-----+--------------------+------------------+------------------+------+-------------+-----------+-------------+------------+--------------------+------------+--------+----------+--------------------+--------------------+--------------------+--------------+------------+--------------------+--------------------+------------------+----------+----+---------+---------+\n",
            "|            Location|ISO|    country|     region|        world_region|  MPI|                 geo|               lat|               lon|    id|funded_amount|loan_amount|     activity|      sector|                 use|country_code|currency|partner_id|         posted_time|      disbursed_time|         funded_time|term_in_months|lender_count|                tags|    borrower_genders|repayment_interval|      date|year|    month|      day|\n",
            "+--------------------+---+-----------+-----------+--------------------+-----+--------------------+------------------+------------------+------+-------------+-----------+-------------+------------+--------------------+------------+--------+----------+--------------------+--------------------+--------------------+--------------+------------+--------------------+--------------------+------------------+----------+----+---------+---------+\n",
            "|Ahuachapan, El Sa...|SLV|El Salvador| Ahuachapan|Latin America and...| 0.03|(13.8216148, -89....|        13.8216148|       -89.9253233|670484|       1300.0|     1300.0|  Agriculture| Agriculture|to pay for the la...|          SV|     USD|     333.0|2014-02-15 21:03:...|2014-01-16 08:00:...|2014-02-21 20:41:...|          14.0|        29.0|                null|female, female, f...|            bullet|2014-02-15|2014| February| Saturday|\n",
            "|Ahuachapan, El Sa...|SLV|El Salvador| Ahuachapan|Latin America and...| 0.03|(13.8216148, -89....|        13.8216148|       -89.9253233|675795|       1800.0|     3000.0|    Livestock| Agriculture|        to buy cows.|          SV|     USD|     333.0|2014-02-24 17:53:...|2014-02-06 08:00:...|                null|          14.0|        53.0|#Animals, #Parent...|    male, male, male|            bullet|2014-02-24|2014| February|   Monday|\n",
            "|Ahuachapan, El Sa...|SLV|El Salvador| Ahuachapan|Latin America and...| 0.03|(13.8216148, -89....|        13.8216148|       -89.9253233|686887|       1900.0|     1900.0|  Agriculture| Agriculture|to buy agricultur...|          SV|     USD|     333.0|2014-03-20 22:43:...|2014-02-20 08:00:...|2014-04-24 12:40:...|          14.0|        31.0|#Hidden Gem, #Sup...|  male, male, female|            bullet|2014-03-20|2014|    March| Thursday|\n",
            "|Ahuachapan, El Sa...|SLV|El Salvador| Ahuachapan|Latin America and...| 0.03|(13.8216148, -89....|        13.8216148|       -89.9253233|706942|       1925.0|     2200.0|  Agriculture| Agriculture|to buy agricultur...|          SV|     USD|     333.0|2014-05-07 14:48:...|2014-04-10 07:00:...|                null|          14.0|        54.0|volunteer_pick, v...|    male, male, male|            bullet|2014-05-07|2014|      May|Wednesday|\n",
            "|Ahuachapan, El Sa...|SLV|El Salvador| Ahuachapan|Latin America and...| 0.03|(13.8216148, -89....|        13.8216148|       -89.9253233|716964|       1275.0|     1500.0|Farm Supplies| Agriculture|to buy agricultur...|          SV|     USD|     333.0|2014-05-27 20:54:...|2014-05-15 07:00:...|                null|          14.0|         7.0|volunteer_pick, v...|    male, male, male|            bullet|2014-05-27|2014|      May|  Tuesday|\n",
            "|Ahuachapan, El Sa...|SLV|El Salvador| Ahuachapan|Latin America and...| 0.03|(13.8216148, -89....|        13.8216148|       -89.9253233|718029|       1250.0|     1250.0|  Agriculture| Agriculture|to purchase agric...|          SV|     USD|     333.0|2014-05-29 15:30:...|2014-05-15 07:00:...|2014-07-10 13:30:...|          14.0|        31.0|#Schooling, #Elde...|    male, male, male|            bullet|2014-05-29|2014|      May| Thursday|\n",
            "|Ahuachapan, El Sa...|SLV|El Salvador| Ahuachapan|Latin America and...| 0.03|(13.8216148, -89....|        13.8216148|       -89.9253233|718783|       1800.0|     1800.0|  Agriculture| Agriculture|to purchase agric...|          SV|     USD|     333.0|2014-05-31 14:50:...|2014-05-08 07:00:...|2014-07-11 04:31:...|          14.0|        45.0|volunteer_pick, #...|female, female, male|            bullet|2014-05-31|2014|      May| Saturday|\n",
            "|Ahuachapan, El Sa...|SLV|El Salvador| Ahuachapan|Latin America and...| 0.03|(13.8216148, -89....|        13.8216148|       -89.9253233|718812|       2900.0|     2900.0|  Agriculture| Agriculture|to purchase agric...|          SV|     USD|     333.0|2014-05-31 17:02:...|2014-05-15 07:00:...|2014-07-10 23:34:...|          14.0|        85.0|#Elderly, #Vegan,...|female, female, f...|            bullet|2014-05-31|2014|      May| Saturday|\n",
            "|Ahuachapan, El Sa...|SLV|El Salvador| Ahuachapan|Latin America and...| 0.03|(13.8216148, -89....|        13.8216148|       -89.9253233|771093|       1150.0|     1150.0|  Agriculture| Agriculture|to buy agricultur...|          SV|     USD|     333.0|2014-09-18 13:47:...|2014-08-28 07:00:...|2014-10-10 15:18:...|           8.0|        45.0|user_favorite, #P...|  male, male, female|            bullet|2014-09-18|2014|September| Thursday|\n",
            "|La Libertad, El S...|SLV|El Salvador|La Libertad|Latin America and...|0.017|(13.6817661, -89....|13.681766099999999|       -89.3606298|664040|       1900.0|     1900.0|  Agriculture| Agriculture|to buy agricultur...|          SV|     USD|     333.0|2014-01-30 14:13:...|2014-01-23 08:00:...|2014-02-22 19:02:...|          14.0|        67.0|user_favorite, #P...|    male, male, male|            bullet|2014-01-30|2014|  January| Thursday|\n",
            "|La Libertad, El S...|SLV|El Salvador|La Libertad|Latin America and...|0.017|(13.6817661, -89....|13.681766099999999|       -89.3606298|675117|       2100.0|     2100.0|  Agriculture| Agriculture|to buy agricultur...|          SV|     USD|     333.0|2014-02-22 19:47:...|2014-02-20 08:00:...|2014-03-31 21:09:...|          14.0|        78.0|#Single Parent, #...|female, female, male|            bullet|2014-02-22|2014| February| Saturday|\n",
            "|La Libertad, El S...|SLV|El Salvador|La Libertad|Latin America and...|0.017|(13.6817661, -89....|13.681766099999999|       -89.3606298|716826|       1650.0|     2900.0|  Agriculture| Agriculture|To purchase agric...|          SV|     USD|     333.0|2014-05-27 15:41:...|2014-05-02 07:00:...|                null|          14.0|        24.0|#Schooling, #Sing...|  female, male, male|            bullet|2014-05-27|2014|      May|  Tuesday|\n",
            "|La Libertad, El S...|SLV|El Salvador|La Libertad|Latin America and...|0.017|(13.6817661, -89....|13.681766099999999|       -89.3606298|718182|       1200.0|     1200.0|  Agriculture| Agriculture|to purchase agric...|          SV|     USD|     333.0|2014-05-29 23:09:...|2014-05-15 07:00:...|2014-07-11 00:36:...|          14.0|        28.0|#Supporting Famil...|    male, male, male|            bullet|2014-05-29|2014|      May| Thursday|\n",
            "|La Libertad, El S...|SLV|El Salvador|La Libertad|Latin America and...|0.017|(13.6817661, -89....|13.681766099999999|       -89.3606298|718523|       1250.0|     1250.0|      Farming| Agriculture|to buy farming su...|          SV|     USD|     333.0|2014-05-30 14:55:...|2014-05-22 07:00:...|2014-07-11 01:32:...|          14.0|        34.0|volunteer_pick, v...|male, female, female|            bullet|2014-05-30|2014|      May|   Friday|\n",
            "|La Libertad, El S...|SLV|El Salvador|La Libertad|Latin America and...|0.017|(13.6817661, -89....|13.681766099999999|       -89.3606298|784501|       2300.0|     2300.0|  Agriculture| Agriculture|to buy agricultur...|          SV|     USD|     333.0|2014-10-16 22:17:...|2014-09-19 07:00:...|2014-11-25 05:30:...|          14.0|        80.0|#Single Parent, #...|male, female, fem...|            bullet|2014-10-16|2014|  October| Thursday|\n",
            "|La Libertad, El S...|SLV|El Salvador|La Libertad|Latin America and...|0.017|(13.6817661, -89....|13.681766099999999|       -89.3606298|784513|       2900.0|     2900.0|  Agriculture| Agriculture|to buy farm suppl...|          SV|     USD|     333.0|2014-10-16 22:53:...|2014-09-25 07:00:...|2014-11-27 18:21:...|          14.0|        99.0|#Schooling, #Vega...|female, male, female|            bullet|2014-10-16|2014|  October| Thursday|\n",
            "|La Libertad, El S...|SLV|El Salvador|La Libertad|Latin America and...|0.017|(13.6817661, -89....|13.681766099999999|       -89.3606298|790457|       1500.0|     1500.0|  Agriculture| Agriculture|to purchase agric...|          SV|     USD|     333.0|2014-10-28 16:31:...|2014-10-03 07:00:...|2014-12-05 19:53:...|          14.0|        51.0|user_favorite, #I...|female, female, male|            bullet|2014-10-28|2014|  October|  Tuesday|\n",
            "|La Libertad, El S...|SLV|El Salvador|La Libertad|Latin America and...|0.017|(13.6817661, -89....|13.681766099999999|       -89.3606298|894761|       1600.0|     1600.0|      Farming| Agriculture|to purchase agric...|          SV|     USD|     333.0|2015-05-30 18:24:...|2015-04-30 07:00:...|2015-06-22 19:04:...|          14.0|        59.0|    #Elderly, #Vegan|    male, male, male|            bullet|2015-05-30|2015|      May| Saturday|\n",
            "|San Miguel, El Sa...|SLV|El Salvador| San Miguel|Latin America and...| 0.03|(13.4792922, -88....|        13.4792922|-88.17791820000002|654358|       1500.0|     1500.0|  Home Energy|Personal Use|to install electr...|          SV|     USD|     199.0|2014-01-06 20:52:...|2013-12-30 08:00:...|2014-01-30 03:10:...|          20.0|        60.0|#Parent, #Support...|              female|           monthly|2014-01-06|2014|  January|   Monday|\n",
            "|San Miguel, El Sa...|SLV|El Salvador| San Miguel|Latin America and...| 0.03|(13.4792922, -88....|        13.4792922|-88.17791820000002|654360|        700.0|      700.0|      Farming| Agriculture|to carry out the ...|          SV|     USD|     199.0|2014-01-06 20:58:...|2013-12-30 08:00:...|2014-01-07 13:34:...|          14.0|        20.0|                null|              female|            bullet|2014-01-06|2014|  January|   Monday|\n",
            "+--------------------+---+-----------+-----------+--------------------+-----+--------------------+------------------+------------------+------+-------------+-----------+-------------+------------+--------------------+------------+--------+----------+--------------------+--------------------+--------------------+--------------+------------+--------------------+--------------------+------------------+----------+----+---------+---------+\n",
            "only showing top 20 rows\n",
            "\n"
          ]
        }
      ]
    },
    {
      "cell_type": "code",
      "metadata": {
        "colab": {
          "base_uri": "https://localhost:8080/"
        },
        "id": "w5Sfv67sacIG",
        "outputId": "65e75194-293a-49c1-e7a7-ba4d43ef2ba5"
      },
      "source": [
        "kiva_select = kiva.select('region','activity','sector',\n",
        "                          'loan_amount','funded_amount')\n",
        "kiva_select.show(2)"
      ],
      "execution_count": null,
      "outputs": [
        {
          "output_type": "stream",
          "name": "stdout",
          "text": [
            "+----------+-----------+-----------+-----------+-------------+\n",
            "|    region|   activity|     sector|loan_amount|funded_amount|\n",
            "+----------+-----------+-----------+-----------+-------------+\n",
            "|Ahuachapan|Agriculture|Agriculture|     1300.0|       1300.0|\n",
            "|Ahuachapan|  Livestock|Agriculture|     3000.0|       1800.0|\n",
            "+----------+-----------+-----------+-----------+-------------+\n",
            "only showing top 2 rows\n",
            "\n"
          ]
        }
      ]
    },
    {
      "cell_type": "code",
      "metadata": {
        "colab": {
          "base_uri": "https://localhost:8080/"
        },
        "id": "tEs1wbLCcllN",
        "outputId": "76b69656-1467-419d-c9e9-4e058aede566"
      },
      "source": [
        "kiva_select.filter((kiva_select.loan_amount > 100) \n",
        "              & (kiva_select.activity == 'Livestock')).show()"
      ],
      "execution_count": null,
      "outputs": [
        {
          "output_type": "stream",
          "name": "stdout",
          "text": [
            "+----------+---------+-----------+-----------+-------------+\n",
            "|    region| activity|     sector|loan_amount|funded_amount|\n",
            "+----------+---------+-----------+-----------+-------------+\n",
            "|Ahuachapan|Livestock|Agriculture|     3000.0|       1800.0|\n",
            "|San Miguel|Livestock|Agriculture|     1600.0|       1600.0|\n",
            "|San Miguel|Livestock|Agriculture|     1000.0|       1000.0|\n",
            "|San Miguel|Livestock|Agriculture|      800.0|        800.0|\n",
            "|San Miguel|Livestock|Agriculture|      500.0|        500.0|\n",
            "|San Miguel|Livestock|Agriculture|     1500.0|       1500.0|\n",
            "|San Miguel|Livestock|Agriculture|      700.0|        700.0|\n",
            "|San Miguel|Livestock|Agriculture|     1000.0|       1000.0|\n",
            "|San Miguel|Livestock|Agriculture|     1000.0|       1000.0|\n",
            "|San Miguel|Livestock|Agriculture|      500.0|        500.0|\n",
            "|San Miguel|Livestock|Agriculture|      650.0|        650.0|\n",
            "|San Miguel|Livestock|Agriculture|      800.0|        800.0|\n",
            "|San Miguel|Livestock|Agriculture|      600.0|        600.0|\n",
            "|San Miguel|Livestock|Agriculture|      600.0|        600.0|\n",
            "|San Miguel|Livestock|Agriculture|     1400.0|       1400.0|\n",
            "|San Miguel|Livestock|Agriculture|      500.0|        500.0|\n",
            "|San Miguel|Livestock|Agriculture|      650.0|        650.0|\n",
            "|San Miguel|Livestock|Agriculture|      600.0|        600.0|\n",
            "|San Miguel|Livestock|Agriculture|      800.0|        800.0|\n",
            "|San Miguel|Livestock|Agriculture|      200.0|        200.0|\n",
            "+----------+---------+-----------+-----------+-------------+\n",
            "only showing top 20 rows\n",
            "\n"
          ]
        }
      ]
    },
    {
      "cell_type": "code",
      "metadata": {
        "id": "llAla7voclov"
      },
      "source": [
        "from pyspark.sql import functions as F"
      ],
      "execution_count": null,
      "outputs": []
    },
    {
      "cell_type": "code",
      "metadata": {
        "colab": {
          "base_uri": "https://localhost:8080/"
        },
        "id": "VBlH8OIvclr3",
        "outputId": "d19c4f56-9f75-4460-ee7d-190bb07607ad"
      },
      "source": [
        "kiva_select.groupby(['sector','activity']).agg(\n",
        "    F.sum('funded_amount').alias('Total Funded Amount')\n",
        ").show()"
      ],
      "execution_count": null,
      "outputs": [
        {
          "output_type": "stream",
          "name": "stdout",
          "text": [
            "+-------------+--------------------+-------------------+\n",
            "|       sector|            activity|Total Funded Amount|\n",
            "+-------------+--------------------+-------------------+\n",
            "|         Food|Food Production/S...|           214125.0|\n",
            "|       Retail| Home Products Sales|             2500.0|\n",
            "|Manufacturing|          Metal Shop|            10150.0|\n",
            "|     Services|         Auto Repair|            12300.0|\n",
            "| Personal Use|   Personal Expenses|            17050.0|\n",
            "| Personal Use|         Home Energy|             5700.0|\n",
            "|         Food|       Cheese Making|             5800.0|\n",
            "|  Agriculture|             Flowers|             1400.0|\n",
            "|  Agriculture|               Dairy|            18575.0|\n",
            "|       Retail|    Electrical Goods|              650.0|\n",
            "|         Arts|              Crafts|             3200.0|\n",
            "| Construction|Construction Supp...|              400.0|\n",
            "|     Services|            Printing|             1200.0|\n",
            "|     Clothing|            Clothing|             9000.0|\n",
            "|         Food|             Fishing|             5300.0|\n",
            "|     Clothing|       Used Clothing|              600.0|\n",
            "|     Services|           Recycling|             1500.0|\n",
            "|         null|                null|               null|\n",
            "|         Food|                Food|            17375.0|\n",
            "|         Food|             Cereals|              800.0|\n",
            "+-------------+--------------------+-------------------+\n",
            "only showing top 20 rows\n",
            "\n"
          ]
        }
      ]
    },
    {
      "cell_type": "code",
      "metadata": {
        "id": "O_fuRgd7clux"
      },
      "source": [
        "from pyspark.sql import SQLContext"
      ],
      "execution_count": null,
      "outputs": []
    },
    {
      "cell_type": "code",
      "metadata": {
        "id": "UoddLgiqclxv"
      },
      "source": [
        "sqlContext = SQLContext(sc)\n",
        "kiva_select.registerTempTable('kiva_table')"
      ],
      "execution_count": null,
      "outputs": []
    },
    {
      "cell_type": "code",
      "metadata": {
        "id": "sA8bXYgeXHQ6"
      },
      "source": [
        "kiva_sql = sqlContext.sql('SELECT * FROM kiva_table WHERE funded_amount>100  ORDER BY funded_amount DESC')"
      ],
      "execution_count": null,
      "outputs": []
    },
    {
      "cell_type": "code",
      "metadata": {
        "colab": {
          "base_uri": "https://localhost:8080/"
        },
        "id": "sFQwhgtrWi0p",
        "outputId": "cf5c908d-316b-440a-956b-d23894f6d042"
      },
      "source": [
        "kiva_sql.show()"
      ],
      "execution_count": null,
      "outputs": [
        {
          "output_type": "stream",
          "name": "stdout",
          "text": [
            "+----------+--------------------+-----------+-----------+-------------+\n",
            "|    region|            activity|     sector|loan_amount|funded_amount|\n",
            "+----------+--------------------+-----------+-----------+-------------+\n",
            "|San Miguel|            Services|   Services|     1600.0|        975.0|\n",
            "|San Miguel|         Agriculture|Agriculture|      975.0|        975.0|\n",
            "|San Miguel|              Retail|     Retail|     1600.0|        975.0|\n",
            "|San Miguel|Personal Housing ...|    Housing|     1500.0|        975.0|\n",
            "|San Miguel| Home Products Sales|     Retail|     1025.0|        975.0|\n",
            "|San Miguel|           Livestock|Agriculture|     1200.0|        975.0|\n",
            "|San Miguel|         Agriculture|Agriculture|      950.0|        950.0|\n",
            "|San Miguel|         Agriculture|Agriculture|      950.0|        950.0|\n",
            "|San Miguel|         Auto Repair|   Services|     1500.0|        950.0|\n",
            "|San Miguel|           Tailoring|   Services|      950.0|        950.0|\n",
            "|San Miguel|              Cattle|Agriculture|      950.0|        950.0|\n",
            "|San Miguel|           Livestock|Agriculture|      950.0|        950.0|\n",
            "|San Miguel|         Agriculture|Agriculture|     1400.0|        950.0|\n",
            "|San Miguel|      Clothing Sales|   Clothing|      950.0|        950.0|\n",
            "|San Miguel|              Cattle|Agriculture|      950.0|        950.0|\n",
            "|San Miguel|              Retail|     Retail|      950.0|        950.0|\n",
            "|San Miguel|                Pigs|Agriculture|      950.0|        950.0|\n",
            "|San Miguel|           Livestock|Agriculture|     1300.0|        925.0|\n",
            "|San Miguel|           Livestock|Agriculture|     1350.0|        925.0|\n",
            "|San Miguel|         Agriculture|Agriculture|     1500.0|        925.0|\n",
            "+----------+--------------------+-----------+-----------+-------------+\n",
            "only showing top 20 rows\n",
            "\n"
          ]
        }
      ]
    }
  ]
}